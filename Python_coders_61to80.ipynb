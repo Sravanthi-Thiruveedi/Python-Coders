{
 "cells": [
  {
   "cell_type": "code",
   "execution_count": 39,
   "id": "091d03a1",
   "metadata": {},
   "outputs": [
    {
     "data": {
      "image/png": "[encoded data removed]",
      "text/plain": [
       "<Figure size 432x288 with 4 Axes>"
      ]
     },
     "metadata": {
      "needs_background": "light"
     },
     "output_type": "display_data"
    }
   ],
   "source": [
    "# 61 Plot a graph by multiplotting on the same canvas (Take any set of x & y values).\n",
    "import pandas as pd\n",
    "import numpy as np\n",
    "import matplotlib.pyplot as plt\n",
    "df=pd.read_excel(\"HospitalDatabase.xlsx\", \"AmbulatoryVisits\")\n",
    "x = (df[\"PatientMRN\"].head()).to_list()\n",
    "y1 = (df[\"Pulse\"].head()).to_list()\n",
    "y2 = (df[\"BloodPressureSystolic\"].head()).to_list()\n",
    "y3 = (df[\"BloodPressureDiastolic\"].head()).to_list()\n",
    "y4 = (df[\"VisitID\"].head()).to_list()\n",
    "fig,a =  plt.subplots(2,2)\n",
    "\n",
    "a[0][0].plot(x,y1)\n",
    "a[0][0].set_title('Pulse')\n",
    "a[0][1].plot(x,y2, 'r--')\n",
    "a[0][1].set_title('BP systolic')\n",
    "a[1][0].plot(x,y3, 'b*')\n",
    "a[1][0].set_title('BP diastolic')\n",
    "a[1][1].plot(x,y4)\n",
    "a[1][1].set_title('visitorID')\n",
    "plt.show()"
   ]
  },
  {
   "cell_type": "code",
   "execution_count": 40,
   "id": "4cb06062",
   "metadata": {},
   "outputs": [
    {
     "name": "stderr",
     "output_type": "stream",
     "text": [
      "C:\\Users\\honey\\AppData\\Local\\Temp\\ipykernel_19912\\220984548.py:8: SettingWithCopyWarning: \n",
      "A value is trying to be set on a copy of a slice from a DataFrame.\n",
      "Try using .loc[row_indexer,col_indexer] = value instead\n",
      "\n",
      "See the caveats in the documentation: https://pandas.pydata.org/pandas-docs/stable/user_guide/indexing.html#returning-a-view-versus-a-copy\n",
      "  df_white[\"age\"] = ((dt.datetime.now()-df_white[\"DateOfBirth\"]).astype ('<m8[Y]'))\n"
     ]
    },
    {
     "data": {
      "text/html": [
       "<div>\n",
       "<style scoped>\n",
       "    .dataframe tbody tr th:only-of-type {\n",
       "        vertical-align: middle;\n",
       "    }\n",
       "\n",
       "    .dataframe tbody tr th {\n",
       "        vertical-align: top;\n",
       "    }\n",
       "\n",
       "    .dataframe thead th {\n",
       "        text-align: right;\n",
       "    }\n",
       "</style>\n",
       "<table border=\"1\" class=\"dataframe\">\n",
       "  <thead>\n",
       "    <tr style=\"text-align: right;\">\n",
       "      <th></th>\n",
       "      <th>PatientID</th>\n",
       "      <th>FirstName</th>\n",
       "      <th>LastName</th>\n",
       "      <th>DateOfBirth</th>\n",
       "      <th>Gender</th>\n",
       "      <th>Race</th>\n",
       "      <th>Language</th>\n",
       "      <th>age</th>\n",
       "    </tr>\n",
       "  </thead>\n",
       "  <tbody>\n",
       "    <tr>\n",
       "      <th>28</th>\n",
       "      <td>29</td>\n",
       "      <td>Ted</td>\n",
       "      <td>Scott</td>\n",
       "      <td>1967-12-09 05:01:37.892</td>\n",
       "      <td>Female</td>\n",
       "      <td>White</td>\n",
       "      <td>Spanish</td>\n",
       "      <td>54.0</td>\n",
       "    </tr>\n",
       "    <tr>\n",
       "      <th>30</th>\n",
       "      <td>31</td>\n",
       "      <td>Harry</td>\n",
       "      <td>Ding</td>\n",
       "      <td>1960-10-08 01:42:51.212</td>\n",
       "      <td>Female</td>\n",
       "      <td>White</td>\n",
       "      <td>Spanish</td>\n",
       "      <td>61.0</td>\n",
       "    </tr>\n",
       "    <tr>\n",
       "      <th>33</th>\n",
       "      <td>34</td>\n",
       "      <td>Ted</td>\n",
       "      <td>Hue</td>\n",
       "      <td>1960-11-28 18:05:11.459</td>\n",
       "      <td>Female</td>\n",
       "      <td>White</td>\n",
       "      <td>Spanish</td>\n",
       "      <td>61.0</td>\n",
       "    </tr>\n",
       "    <tr>\n",
       "      <th>34</th>\n",
       "      <td>35</td>\n",
       "      <td>Fred</td>\n",
       "      <td>Tye</td>\n",
       "      <td>1966-04-14 06:01:07.169</td>\n",
       "      <td>Female</td>\n",
       "      <td>White</td>\n",
       "      <td>Spanish</td>\n",
       "      <td>56.0</td>\n",
       "    </tr>\n",
       "    <tr>\n",
       "      <th>42</th>\n",
       "      <td>43</td>\n",
       "      <td>Ryan</td>\n",
       "      <td>Angear</td>\n",
       "      <td>1971-09-14 05:59:22.112</td>\n",
       "      <td>Female</td>\n",
       "      <td>White</td>\n",
       "      <td>Spanish</td>\n",
       "      <td>51.0</td>\n",
       "    </tr>\n",
       "    <tr>\n",
       "      <th>...</th>\n",
       "      <td>...</td>\n",
       "      <td>...</td>\n",
       "      <td>...</td>\n",
       "      <td>...</td>\n",
       "      <td>...</td>\n",
       "      <td>...</td>\n",
       "      <td>...</td>\n",
       "      <td>...</td>\n",
       "    </tr>\n",
       "    <tr>\n",
       "      <th>864</th>\n",
       "      <td>865</td>\n",
       "      <td>Giovanni</td>\n",
       "      <td>Borland</td>\n",
       "      <td>1960-12-01 13:16:18.100</td>\n",
       "      <td>Female</td>\n",
       "      <td>White</td>\n",
       "      <td>English</td>\n",
       "      <td>61.0</td>\n",
       "    </tr>\n",
       "    <tr>\n",
       "      <th>865</th>\n",
       "      <td>866</td>\n",
       "      <td>Jermayne</td>\n",
       "      <td>Lowndes</td>\n",
       "      <td>1970-12-09 04:49:48.933</td>\n",
       "      <td>Female</td>\n",
       "      <td>White</td>\n",
       "      <td>English</td>\n",
       "      <td>51.0</td>\n",
       "    </tr>\n",
       "    <tr>\n",
       "      <th>866</th>\n",
       "      <td>867</td>\n",
       "      <td>Gail</td>\n",
       "      <td>Inc</td>\n",
       "      <td>1967-03-10 08:18:47.908</td>\n",
       "      <td>Female</td>\n",
       "      <td>White</td>\n",
       "      <td>English</td>\n",
       "      <td>55.0</td>\n",
       "    </tr>\n",
       "    <tr>\n",
       "      <th>867</th>\n",
       "      <td>868</td>\n",
       "      <td>Des</td>\n",
       "      <td>Heindrick</td>\n",
       "      <td>1969-08-15 11:05:30.165</td>\n",
       "      <td>Female</td>\n",
       "      <td>White</td>\n",
       "      <td>English</td>\n",
       "      <td>53.0</td>\n",
       "    </tr>\n",
       "    <tr>\n",
       "      <th>869</th>\n",
       "      <td>870</td>\n",
       "      <td>Hauck</td>\n",
       "      <td>Rubbens</td>\n",
       "      <td>1963-11-16 03:31:38.929</td>\n",
       "      <td>Female</td>\n",
       "      <td>White</td>\n",
       "      <td>English</td>\n",
       "      <td>58.0</td>\n",
       "    </tr>\n",
       "  </tbody>\n",
       "</table>\n",
       "<p>113 rows × 8 columns</p>\n",
       "</div>"
      ],
      "text/plain": [
       "     PatientID FirstName   LastName             DateOfBirth  Gender   Race  \\\n",
       "28          29       Ted      Scott 1967-12-09 05:01:37.892  Female  White   \n",
       "30          31     Harry       Ding 1960-10-08 01:42:51.212  Female  White   \n",
       "33          34       Ted        Hue 1960-11-28 18:05:11.459  Female  White   \n",
       "34          35      Fred        Tye 1966-04-14 06:01:07.169  Female  White   \n",
       "42          43      Ryan     Angear 1971-09-14 05:59:22.112  Female  White   \n",
       "..         ...       ...        ...                     ...     ...    ...   \n",
       "864        865  Giovanni    Borland 1960-12-01 13:16:18.100  Female  White   \n",
       "865        866  Jermayne    Lowndes 1970-12-09 04:49:48.933  Female  White   \n",
       "866        867      Gail        Inc 1967-03-10 08:18:47.908  Female  White   \n",
       "867        868       Des  Heindrick 1969-08-15 11:05:30.165  Female  White   \n",
       "869        870     Hauck    Rubbens 1963-11-16 03:31:38.929  Female  White   \n",
       "\n",
       "    Language   age  \n",
       "28   Spanish  54.0  \n",
       "30   Spanish  61.0  \n",
       "33   Spanish  61.0  \n",
       "34   Spanish  56.0  \n",
       "42   Spanish  51.0  \n",
       "..       ...   ...  \n",
       "864  English  61.0  \n",
       "865  English  51.0  \n",
       "866  English  55.0  \n",
       "867  English  53.0  \n",
       "869  English  58.0  \n",
       "\n",
       "[113 rows x 8 columns]"
      ]
     },
     "metadata": {},
     "output_type": "display_data"
    }
   ],
   "source": [
    "# 62 Display the data for all 'White Female' patients above the age of 50.\n",
    "import pandas as pd\n",
    "import numpy as np\n",
    "import datetime as dt\n",
    "df=pd.read_excel(\"HospitalDatabase.xlsx\", \"Patients\")\n",
    "dfs = df[df['Gender']=='Female']\n",
    "df_white = dfs[dfs['Race']=='White']\n",
    "df_white[\"age\"] = ((dt.datetime.now()-df_white[\"DateOfBirth\"]).astype ('<m8[Y]'))\n",
    "display(df_white.loc[(df_white.age) > 50.0])"
   ]
  },
  {
   "cell_type": "code",
   "execution_count": 36,
   "id": "29a757da",
   "metadata": {},
   "outputs": [
    {
     "data": {
      "text/html": [
       "<div>\n",
       "<style scoped>\n",
       "    .dataframe tbody tr th:only-of-type {\n",
       "        vertical-align: middle;\n",
       "    }\n",
       "\n",
       "    .dataframe tbody tr th {\n",
       "        vertical-align: top;\n",
       "    }\n",
       "\n",
       "    .dataframe thead th {\n",
       "        text-align: right;\n",
       "    }\n",
       "</style>\n",
       "<table border=\"1\" class=\"dataframe\">\n",
       "  <thead>\n",
       "    <tr style=\"text-align: right;\">\n",
       "      <th></th>\n",
       "      <th>FirstName</th>\n",
       "      <th>LastName</th>\n",
       "    </tr>\n",
       "  </thead>\n",
       "  <tbody>\n",
       "    <tr>\n",
       "      <th>102</th>\n",
       "      <td>Jethro</td>\n",
       "      <td>Wharin</td>\n",
       "    </tr>\n",
       "    <tr>\n",
       "      <th>103</th>\n",
       "      <td>Viv</td>\n",
       "      <td>Aylward</td>\n",
       "    </tr>\n",
       "    <tr>\n",
       "      <th>104</th>\n",
       "      <td>Swift</td>\n",
       "      <td>Dreschler</td>\n",
       "    </tr>\n",
       "    <tr>\n",
       "      <th>105</th>\n",
       "      <td>Fadel</td>\n",
       "      <td>Jacquemard</td>\n",
       "    </tr>\n",
       "    <tr>\n",
       "      <th>106</th>\n",
       "      <td>Myrtia</td>\n",
       "      <td>Pow</td>\n",
       "    </tr>\n",
       "    <tr>\n",
       "      <th>...</th>\n",
       "      <td>...</td>\n",
       "      <td>...</td>\n",
       "    </tr>\n",
       "    <tr>\n",
       "      <th>195</th>\n",
       "      <td>Cathlene</td>\n",
       "      <td>Kidwell</td>\n",
       "    </tr>\n",
       "    <tr>\n",
       "      <th>196</th>\n",
       "      <td>Noam</td>\n",
       "      <td>Laguerre</td>\n",
       "    </tr>\n",
       "    <tr>\n",
       "      <th>197</th>\n",
       "      <td>Arie</td>\n",
       "      <td>Bayless</td>\n",
       "    </tr>\n",
       "    <tr>\n",
       "      <th>198</th>\n",
       "      <td>Janaye</td>\n",
       "      <td>O'Mohun</td>\n",
       "    </tr>\n",
       "    <tr>\n",
       "      <th>199</th>\n",
       "      <td>Fonz</td>\n",
       "      <td>Group</td>\n",
       "    </tr>\n",
       "  </tbody>\n",
       "</table>\n",
       "<p>98 rows × 2 columns</p>\n",
       "</div>"
      ],
      "text/plain": [
       "    FirstName    LastName\n",
       "102    Jethro      Wharin\n",
       "103       Viv     Aylward\n",
       "104     Swift   Dreschler\n",
       "105     Fadel  Jacquemard\n",
       "106    Myrtia         Pow\n",
       "..        ...         ...\n",
       "195  Cathlene     Kidwell\n",
       "196      Noam    Laguerre\n",
       "197      Arie     Bayless\n",
       "198    Janaye     O'Mohun\n",
       "199      Fonz       Group\n",
       "\n",
       "[98 rows x 2 columns]"
      ]
     },
     "execution_count": 36,
     "metadata": {},
     "output_type": "execute_result"
    }
   ],
   "source": [
    "# 63 Using loc, retrieve the firstname and lastname of patients between indices 101 and 200.\n",
    "import pandas as pd\n",
    "import numpy as np\n",
    "df=pd.read_excel(\"HospitalDatabase.xlsx\", \"Patients\")\n",
    "df.loc[102:199, [\"FirstName\", \"LastName\"]]"
   ]
  },
  {
   "cell_type": "code",
   "execution_count": 5,
   "id": "eb1d7f49",
   "metadata": {},
   "outputs": [
    {
     "name": "stdout",
     "output_type": "stream",
     "text": [
      "[[10 13]\n",
      " [28 40]]\n"
     ]
    }
   ],
   "source": [
    "# 64 \"Using numpy functions, multiply the following arrays a=np.arange(6).reshape(2,3) b=np.arange(6).reshape(3,2)\"\n",
    "\n",
    "import numpy as np\n",
    "a=np.arange(6).reshape(2,3)\n",
    "b=np.arange(6).reshape(3,2)\n",
    "c = np.matmul(a, b)\n",
    "print(c)"
   ]
  },
  {
   "cell_type": "code",
   "execution_count": 6,
   "id": "53e52f64",
   "metadata": {},
   "outputs": [
    {
     "data": {
      "text/plain": [
       "<seaborn.axisgrid.FacetGrid at 0x1ba3efc1370>"
      ]
     },
     "execution_count": 6,
     "metadata": {},
     "output_type": "execute_result"
    },
    {
     "data": {
      "image/png": "[encoded data removed]",
      "text/plain": [
       "<Figure size 2289.62x360 with 6 Axes>"
      ]
     },
     "metadata": {
      "needs_background": "light"
     },
     "output_type": "display_data"
    }
   ],
   "source": [
    "# 65\tGet the  number of patients based on service and primary diagnosis.\n",
    "import pandas as pd\n",
    "import numpy as np\n",
    "import matplotlib.pyplot as plt\n",
    "import datetime as dt\n",
    "import seaborn as sns\n",
    "df=pd.read_excel(\"HospitalDatabase.xlsx\", \"Discharges\")\n",
    "df.groupby([\"Service\",\"PrimaryDiagnosis\"]).size()\n",
    "sns.displot(data = df, x = df[\"Service\"], hue = df[\"PrimaryDiagnosis\"], col =df[\"Service\"], kde = False)\n"
   ]
  },
  {
   "cell_type": "code",
   "execution_count": 7,
   "id": "7007502b",
   "metadata": {},
   "outputs": [
    {
     "name": "stdout",
     "output_type": "stream",
     "text": [
      "4\n",
      "5\n",
      "24\n",
      "25\n",
      "29\n",
      "30\n"
     ]
    }
   ],
   "source": [
    "# 66 np.arange(1,31).reshape(6,5), find array slicing to get the elements 4,5,24,25,29,30.\n",
    "import numpy as np\n",
    "a = np.arange(1,31).reshape(6,5)\n",
    "ele_4 = a[0,3]\n",
    "print(ele_4)\n",
    "ele_5 = a[0,4]\n",
    "print(ele_5)\n",
    "ele_24 = a[4,3]\n",
    "print(ele_24)\n",
    "ele_25 = a[4,4]\n",
    "print(ele_25)\n",
    "ele_29 = a[5,3]\n",
    "print(ele_29)\n",
    "ele_30 = a[5,4]\n",
    "print(ele_30)"
   ]
  },
  {
   "cell_type": "code",
   "execution_count": 8,
   "id": "84b3d616",
   "metadata": {},
   "outputs": [
    {
     "name": "stdout",
     "output_type": "stream",
     "text": [
      "                              PatientID\n",
      "AdmissionDate Discharge_date           \n",
      "2018-01-01    2018-01-04              3\n",
      "              2018-01-05              2\n",
      "              2018-01-06              1\n",
      "              2018-01-07              3\n",
      "              2018-01-08              1\n",
      "...                                 ...\n",
      "2018-02-22    2018-03-05              1\n",
      "              2018-03-06              1\n",
      "              2018-03-07              4\n",
      "              2018-03-08              2\n",
      "              2018-03-10              2\n",
      "\n",
      "[459 rows x 1 columns]\n"
     ]
    }
   ],
   "source": [
    "# 67 Make a pivot table by the no. of patients from the admission date till discharge date.\n",
    "import pandas as pd\n",
    "import numpy as np\n",
    "import datetime as dt\n",
    "df=pd.read_excel(\"HospitalDatabase.xlsx\", \"Discharges\")\n",
    "df['Discharge_date'] = pd.to_datetime(df['DischargeDate']).dt.date\n",
    "pivot = pd.pivot_table(df,values = 'PatientID', index=['AdmissionDate','Discharge_date'],aggfunc='count')\n",
    "print(pivot)"
   ]
  },
  {
   "cell_type": "code",
   "execution_count": 9,
   "id": "0f064652",
   "metadata": {},
   "outputs": [
    {
     "data": {
      "text/html": [
       "<div>\n",
       "<style scoped>\n",
       "    .dataframe tbody tr th:only-of-type {\n",
       "        vertical-align: middle;\n",
       "    }\n",
       "\n",
       "    .dataframe tbody tr th {\n",
       "        vertical-align: top;\n",
       "    }\n",
       "\n",
       "    .dataframe thead th {\n",
       "        text-align: right;\n",
       "    }\n",
       "</style>\n",
       "<table border=\"1\" class=\"dataframe\">\n",
       "  <thead>\n",
       "    <tr style=\"text-align: right;\">\n",
       "      <th></th>\n",
       "      <th>AdmissionID</th>\n",
       "      <th>PatientID</th>\n",
       "      <th>AdmissionDate</th>\n",
       "      <th>DischargeDate</th>\n",
       "      <th>DischargeDisposition</th>\n",
       "      <th>Service</th>\n",
       "      <th>PrimaryDiagnosis</th>\n",
       "      <th>ExpectedLOS</th>\n",
       "      <th>ExpectedMortality</th>\n",
       "      <th>los</th>\n",
       "      <th>los_diff</th>\n",
       "    </tr>\n",
       "  </thead>\n",
       "  <tbody>\n",
       "    <tr>\n",
       "      <th>1</th>\n",
       "      <td>257</td>\n",
       "      <td>93</td>\n",
       "      <td>2018-01-06</td>\n",
       "      <td>2018-01-18 02:59:04.667</td>\n",
       "      <td>Expired</td>\n",
       "      <td>Cardiology</td>\n",
       "      <td>Broken Leg</td>\n",
       "      <td>6.816558</td>\n",
       "      <td>0.628827</td>\n",
       "      <td>12.0</td>\n",
       "      <td>5.0</td>\n",
       "    </tr>\n",
       "    <tr>\n",
       "      <th>4</th>\n",
       "      <td>258</td>\n",
       "      <td>103</td>\n",
       "      <td>2018-01-07</td>\n",
       "      <td>2018-01-15 13:32:36.157</td>\n",
       "      <td>Expired</td>\n",
       "      <td>Cardiology</td>\n",
       "      <td>Broken Leg</td>\n",
       "      <td>2.639297</td>\n",
       "      <td>0.055468</td>\n",
       "      <td>9.0</td>\n",
       "      <td>6.0</td>\n",
       "    </tr>\n",
       "    <tr>\n",
       "      <th>5</th>\n",
       "      <td>395</td>\n",
       "      <td>109</td>\n",
       "      <td>2018-01-07</td>\n",
       "      <td>2018-01-22 17:57:37.103</td>\n",
       "      <td>Expired</td>\n",
       "      <td>Cardiology</td>\n",
       "      <td>Flu</td>\n",
       "      <td>2.981758</td>\n",
       "      <td>0.192976</td>\n",
       "      <td>16.0</td>\n",
       "      <td>13.0</td>\n",
       "    </tr>\n",
       "    <tr>\n",
       "      <th>6</th>\n",
       "      <td>396</td>\n",
       "      <td>115</td>\n",
       "      <td>2018-01-08</td>\n",
       "      <td>2018-01-17 02:19:05.623</td>\n",
       "      <td>Expired</td>\n",
       "      <td>Cardiology</td>\n",
       "      <td>Flu</td>\n",
       "      <td>4.959098</td>\n",
       "      <td>0.254923</td>\n",
       "      <td>9.0</td>\n",
       "      <td>4.0</td>\n",
       "    </tr>\n",
       "    <tr>\n",
       "      <th>7</th>\n",
       "      <td>259</td>\n",
       "      <td>116</td>\n",
       "      <td>2018-01-08</td>\n",
       "      <td>2018-01-20 03:40:53.605</td>\n",
       "      <td>Expired</td>\n",
       "      <td>Cardiology</td>\n",
       "      <td>Broken Leg</td>\n",
       "      <td>2.279624</td>\n",
       "      <td>0.491274</td>\n",
       "      <td>12.0</td>\n",
       "      <td>10.0</td>\n",
       "    </tr>\n",
       "    <tr>\n",
       "      <th>...</th>\n",
       "      <td>...</td>\n",
       "      <td>...</td>\n",
       "      <td>...</td>\n",
       "      <td>...</td>\n",
       "      <td>...</td>\n",
       "      <td>...</td>\n",
       "      <td>...</td>\n",
       "      <td>...</td>\n",
       "      <td>...</td>\n",
       "      <td>...</td>\n",
       "      <td>...</td>\n",
       "    </tr>\n",
       "    <tr>\n",
       "      <th>712</th>\n",
       "      <td>703</td>\n",
       "      <td>703</td>\n",
       "      <td>2018-02-21</td>\n",
       "      <td>2018-02-27 08:53:38.211</td>\n",
       "      <td>Transfer</td>\n",
       "      <td>General Medicine</td>\n",
       "      <td>Pneumonia</td>\n",
       "      <td>3.539165</td>\n",
       "      <td>0.275691</td>\n",
       "      <td>6.0</td>\n",
       "      <td>2.0</td>\n",
       "    </tr>\n",
       "    <tr>\n",
       "      <th>713</th>\n",
       "      <td>709</td>\n",
       "      <td>708</td>\n",
       "      <td>2018-02-21</td>\n",
       "      <td>2018-03-01 05:59:22.116</td>\n",
       "      <td>Transfer</td>\n",
       "      <td>General Medicine</td>\n",
       "      <td>Diabetes</td>\n",
       "      <td>4.518876</td>\n",
       "      <td>0.455570</td>\n",
       "      <td>8.0</td>\n",
       "      <td>3.0</td>\n",
       "    </tr>\n",
       "    <tr>\n",
       "      <th>714</th>\n",
       "      <td>697</td>\n",
       "      <td>713</td>\n",
       "      <td>2018-02-21</td>\n",
       "      <td>2018-03-04 00:23:19.967</td>\n",
       "      <td>Transfer</td>\n",
       "      <td>General Medicine</td>\n",
       "      <td>Pneumonia</td>\n",
       "      <td>8.542970</td>\n",
       "      <td>0.201036</td>\n",
       "      <td>11.0</td>\n",
       "      <td>2.0</td>\n",
       "    </tr>\n",
       "    <tr>\n",
       "      <th>715</th>\n",
       "      <td>715</td>\n",
       "      <td>716</td>\n",
       "      <td>2018-02-21</td>\n",
       "      <td>2018-03-06 03:31:05.262</td>\n",
       "      <td>Transfer</td>\n",
       "      <td>ICU</td>\n",
       "      <td>Heart Failure</td>\n",
       "      <td>11.362095</td>\n",
       "      <td>0.370695</td>\n",
       "      <td>13.0</td>\n",
       "      <td>2.0</td>\n",
       "    </tr>\n",
       "    <tr>\n",
       "      <th>719</th>\n",
       "      <td>710</td>\n",
       "      <td>742</td>\n",
       "      <td>2018-02-22</td>\n",
       "      <td>2018-03-10 20:38:30.568</td>\n",
       "      <td>Transfer</td>\n",
       "      <td>General Medicine</td>\n",
       "      <td>Diabetes</td>\n",
       "      <td>7.195441</td>\n",
       "      <td>0.286439</td>\n",
       "      <td>17.0</td>\n",
       "      <td>10.0</td>\n",
       "    </tr>\n",
       "  </tbody>\n",
       "</table>\n",
       "<p>396 rows × 11 columns</p>\n",
       "</div>"
      ],
      "text/plain": [
       "     AdmissionID  PatientID AdmissionDate           DischargeDate  \\\n",
       "1            257         93    2018-01-06 2018-01-18 02:59:04.667   \n",
       "4            258        103    2018-01-07 2018-01-15 13:32:36.157   \n",
       "5            395        109    2018-01-07 2018-01-22 17:57:37.103   \n",
       "6            396        115    2018-01-08 2018-01-17 02:19:05.623   \n",
       "7            259        116    2018-01-08 2018-01-20 03:40:53.605   \n",
       "..           ...        ...           ...                     ...   \n",
       "712          703        703    2018-02-21 2018-02-27 08:53:38.211   \n",
       "713          709        708    2018-02-21 2018-03-01 05:59:22.116   \n",
       "714          697        713    2018-02-21 2018-03-04 00:23:19.967   \n",
       "715          715        716    2018-02-21 2018-03-06 03:31:05.262   \n",
       "719          710        742    2018-02-22 2018-03-10 20:38:30.568   \n",
       "\n",
       "    DischargeDisposition           Service PrimaryDiagnosis  ExpectedLOS  \\\n",
       "1                Expired        Cardiology       Broken Leg     6.816558   \n",
       "4                Expired        Cardiology       Broken Leg     2.639297   \n",
       "5                Expired        Cardiology              Flu     2.981758   \n",
       "6                Expired        Cardiology              Flu     4.959098   \n",
       "7                Expired        Cardiology       Broken Leg     2.279624   \n",
       "..                   ...               ...              ...          ...   \n",
       "712             Transfer  General Medicine        Pneumonia     3.539165   \n",
       "713             Transfer  General Medicine         Diabetes     4.518876   \n",
       "714             Transfer  General Medicine        Pneumonia     8.542970   \n",
       "715             Transfer               ICU    Heart Failure    11.362095   \n",
       "719             Transfer  General Medicine         Diabetes     7.195441   \n",
       "\n",
       "     ExpectedMortality   los  los_diff  \n",
       "1             0.628827  12.0       5.0  \n",
       "4             0.055468   9.0       6.0  \n",
       "5             0.192976  16.0      13.0  \n",
       "6             0.254923   9.0       4.0  \n",
       "7             0.491274  12.0      10.0  \n",
       "..                 ...   ...       ...  \n",
       "712           0.275691   6.0       2.0  \n",
       "713           0.455570   8.0       3.0  \n",
       "714           0.201036  11.0       2.0  \n",
       "715           0.370695  13.0       2.0  \n",
       "719           0.286439  17.0      10.0  \n",
       "\n",
       "[396 rows x 11 columns]"
      ]
     },
     "metadata": {},
     "output_type": "display_data"
    }
   ],
   "source": [
    "# 68\tDisplay the data where actual LOS is greater than expected LOS\n",
    "import pandas as pd\n",
    "import numpy as np\n",
    "import datetime as dt\n",
    "df=pd.read_excel(\"HospitalDatabase.xlsx\", \"Discharges\")\n",
    "df[[\"DischargeDate\",\"AdmissionDate\"]] = df[[\"DischargeDate\",\"AdmissionDate\"]].apply(pd.to_datetime)\n",
    "df[\"los\"] = round((df[\"DischargeDate\"]-df[\"AdmissionDate\"])/np.timedelta64(1, 'D'))\n",
    "df[\"los_diff\"]= df[\"los\"] - round(df[\"ExpectedLOS\"]) \n",
    "display(df.loc[(df.los_diff) > 0])"
   ]
  },
  {
   "cell_type": "code",
   "execution_count": 10,
   "id": "f3024feb",
   "metadata": {},
   "outputs": [
    {
     "name": "stdout",
     "output_type": "stream",
     "text": [
      "['Jerrilyn Klausen', 'Lauren Foort', 'Lauren Gaskal', 'Lemmy Klausen', 'Zulauf Alvar', 'Zulauf Bitcheno', 'Zulauf Ellingham', 'Zulauf LLC', 'Zulauf Manske', \"Zulauf O'Shavlan\", 'Zulauf Orbine']\n"
     ]
    }
   ],
   "source": [
    "# 69 Details of the patients whose firstname or lastname contains string \"lau\" , should be case insensitive.\n",
    "import pandas as pd\n",
    "import numpy as np\n",
    "df=pd.read_excel(\"HospitalDatabase.xlsx\", \"Patients\")\n",
    "Name = []\n",
    "final_list = []\n",
    "Name = (df ['FirstName']+\" \"+df[\"LastName\"])\n",
    "Name = np.unique(Name).tolist()\n",
    "string = 'lau'\n",
    "for n in Name:\n",
    "    if string.lower() in n.lower():        \n",
    "        final_list.append(n)\n",
    "print(final_list)"
   ]
  },
  {
   "cell_type": "code",
   "execution_count": 11,
   "id": "c3b448db",
   "metadata": {},
   "outputs": [
    {
     "data": {
      "text/plain": [
       "<seaborn.axisgrid.FacetGrid at 0x1ba41c2ddf0>"
      ]
     },
     "execution_count": 11,
     "metadata": {},
     "output_type": "execute_result"
    },
    {
     "data": {
      "image/png": "[encoded data removed]",
      "text/plain": [
       "<Figure size 360x360 with 1 Axes>"
      ]
     },
     "metadata": {
      "needs_background": "light"
     },
     "output_type": "display_data"
    }
   ],
   "source": [
    "# 70\tPlot a graph to show the distribution of expected mortality.\n",
    "import pandas as pd\n",
    "import numpy as np\n",
    "import seaborn as sns\n",
    "df=pd.read_excel(\"HospitalDatabase.xlsx\", \"Discharges\")\n",
    "sns.displot(df[\"ExpectedMortality\"])"
   ]
  },
  {
   "cell_type": "code",
   "execution_count": 48,
   "id": "65764ff6",
   "metadata": {},
   "outputs": [
    {
     "data": {
      "text/plain": [
       "Pneumonia             177\n",
       "Flu                    80\n",
       "Heart Failure          78\n",
       "Stroke                 68\n",
       "Diabetes               64\n",
       "Hypertension           50\n",
       "AMI                    48\n",
       "Laceration             29\n",
       "Knee Replacement       23\n",
       "Hip Fracture           23\n",
       "Kidney Failure         20\n",
       "Fever                  19\n",
       "Migraine               12\n",
       "Afib                   11\n",
       "Broken Leg              9\n",
       "Pain                    7\n",
       "Spinal Cord Injury      2\n",
       "Name: PrimaryDiagnosis, dtype: int64"
      ]
     },
     "metadata": {},
     "output_type": "display_data"
    },
    {
     "data": {
      "image/png": "[encoded data removed]",
      "text/plain": [
       "<Figure size 1656x576 with 1 Axes>"
      ]
     },
     "metadata": {},
     "output_type": "display_data"
    }
   ],
   "source": [
    "# 71\tCreate a visualization on the count of patients based on primary diagnosis.\n",
    "import pandas as pd\n",
    "import numpy as np\n",
    "import matplotlib.pyplot as plt\n",
    "import seaborn as sns\n",
    "df=pd.read_excel(\"HospitalDatabase.xlsx\", \"Discharges\")\n",
    "count_PD = df[\"PrimaryDiagnosis\"].value_counts()\n",
    "\n",
    "sns.displot(df[\"PrimaryDiagnosis\"] )\n",
    "plt.gcf().set_size_inches(23, 8)\n",
    "display(count_PD)"
   ]
  },
  {
   "cell_type": "code",
   "execution_count": 27,
   "id": "c0f4d067",
   "metadata": {},
   "outputs": [
    {
     "name": "stderr",
     "output_type": "stream",
     "text": [
      "C:\\Users\\honey\\AppData\\Local\\Temp\\ipykernel_19912\\1616998413.py:9: SettingWithCopyWarning: \n",
      "A value is trying to be set on a copy of a slice from a DataFrame.\n",
      "Try using .loc[row_indexer,col_indexer] = value instead\n",
      "\n",
      "See the caveats in the documentation: https://pandas.pydata.org/pandas-docs/stable/user_guide/indexing.html#returning-a-view-versus-a-copy\n",
      "  dfs[\"age\"] = ((dt.datetime.now()-dfs[\"DateOfBirth\"]).astype ('<m8[Y]'))\n"
     ]
    },
    {
     "name": "stdout",
     "output_type": "stream",
     "text": [
      "List male patients over the age of 60 who have undergone surgery from January-March 2019:\n",
      "  FirstName LastName\n",
      "9     Berta    Loxly\n"
     ]
    }
   ],
   "source": [
    "# 72: List male patients over the age of 60 who have undergone surgery from January-March 2019.\n",
    "\n",
    "\n",
    "import pandas as pd\n",
    "import numpy as np\n",
    "import datetime as dt\n",
    "df=pd.read_excel(\"HospitalDatabase.xlsx\", \"Patients\")\n",
    "dfs = df[df['Gender']=='Male']\n",
    "dfs[\"age\"] = ((dt.datetime.now()-dfs[\"DateOfBirth\"]).astype ('<m8[Y]'))\n",
    "dfs = (dfs.loc[(dfs.age) > 60.0])\n",
    "patient = dfs.loc[:,[\"PatientID\",\"FirstName\",\"LastName\"]]\n",
    "\n",
    "ef = pd.read_excel(\"HospitalDatabase.xlsx\", \"AmbulatoryVisits\")\n",
    "str_d = (ef[\"DateofVisit\"].dt.date)\n",
    "diff1=[]\n",
    "diff2=[]\n",
    "import datetime as datetime\n",
    "for x in str_d:\n",
    "    str_d1 = str(x) \n",
    "    str_d2 = '01/01/2019'\n",
    "    str_d3 = '04/01/2019'\n",
    "    # convert string to date object\n",
    "    d1 = dt.datetime.strptime(str_d1, \"%Y-%m-%d\")\n",
    "    d2 = dt.datetime.strptime(str_d2, \"%m/%d/%Y\")\n",
    "    d3 = dt.datetime.strptime(str_d3, \"%m/%d/%Y\")\n",
    "    diff1.append((d1-d2).days)\n",
    "    diff2.append((d1-d3).days)\n",
    "\n",
    "ef[\"diff1\"] = diff1\n",
    "ef[\"diff2\"] = diff2\n",
    "efs = (ef.loc[(ef.diff1) > -1])\n",
    "efss = (efs.loc[(efs.diff2) < 0])\n",
    "\n",
    "patient_provider = efss.loc[:,[\"ProviderID\",\"PatientMRN\"]]    \n",
    "merged_1 = pd.merge(left=patient, right=patient_provider, left_on='PatientID', right_on='PatientMRN')\n",
    "\n",
    "gf  = pd.read_excel(\"HospitalDatabase.xlsx\", \"Providers\")\n",
    "gf = gf.loc[:,[\"ProviderID\",\"ProviderSpecialty\"]]\n",
    "table = (pd.concat([merged_1, gf], \n",
    "                  axis = 1))\n",
    "tb = table[table['ProviderSpecialty']=='Surgery']\n",
    "t =tb.dropna()\n",
    "t = t.loc[:,[\"FirstName\",\"LastName\"]]\n",
    "patt = t.drop_duplicates()\n",
    "print(\"List male patients over the age of 60 who have undergone surgery from January-March 2019:\")\n",
    "print(patt)"
   ]
  },
  {
   "cell_type": "code",
   "execution_count": 28,
   "id": "69781079",
   "metadata": {},
   "outputs": [
    {
     "name": "stdout",
     "output_type": "stream",
     "text": [
      "[]\n"
     ]
    }
   ],
   "source": [
    "# 73\tDelete the column 'DischargeDispostion' iteratively.\n",
    "\n",
    "import pandas as pd\n",
    "df=pd.read_excel(\"HospitalDatabase.xlsx\", \"Discharges\")\n",
    "discharge = []\n",
    "discharge = (df[\"DischargeDisposition\"]).to_list()\n",
    "x = range(0,len(discharge),1)\n",
    "for i in x:\n",
    "    discharge.pop()\n",
    "print(discharge)\n"
   ]
  },
  {
   "cell_type": "code",
   "execution_count": 29,
   "id": "976bea81",
   "metadata": {},
   "outputs": [
    {
     "name": "stdout",
     "output_type": "stream",
     "text": [
      "['Accident', 'Bleeding', 'Car Accident', 'Chest Pain', 'Cough', 'Fever', 'Gun Shot', 'Intoxication', 'Laceration', 'Migraine', 'Pneumonia', 'Shortness of Breath', 'Stomach Ache']\n"
     ]
    }
   ],
   "source": [
    "# 74 Get the list of ReasonForVisit.\n",
    "import pandas as pd\n",
    "import numpy as np\n",
    "df=pd.read_excel(\"HospitalDatabase.xlsx\", \"EDVisits\")\n",
    "visit_reason = []\n",
    "visit_reason = df[\"ReasonForVisit\"]\n",
    "visit_reason = np.unique(visit_reason).tolist()\n",
    "print(visit_reason)\n"
   ]
  },
  {
   "cell_type": "code",
   "execution_count": 30,
   "id": "dbfbbf8e",
   "metadata": {},
   "outputs": [
    {
     "name": "stdout",
     "output_type": "stream",
     "text": [
      "0       11.339701\n",
      "1       23.238949\n",
      "2        1.848931\n",
      "3        1.336054\n",
      "4        2.638901\n",
      "          ...    \n",
      "1194    15.885959\n",
      "1195    22.451119\n",
      "1196     4.500985\n",
      "1197     6.176404\n",
      "1198    10.824050\n",
      "Name: LOS, Length: 1199, dtype: float64\n"
     ]
    }
   ],
   "source": [
    "# 75\tCalculate the time spent in ED Department for each visit.\n",
    "\n",
    "import pandas as pd\n",
    "import numpy as np\n",
    "import datetime as dt\n",
    "df=pd.read_excel(\"HospitalDatabase.xlsx\", \"EDVisits\")\n",
    "df[\"LOS\"] = ((df[\"EDDischargeTime\"]-df[\"VisitDate\"])/np.timedelta64(1, 'h'))\n",
    "print(df[\"LOS\"])"
   ]
  },
  {
   "cell_type": "code",
   "execution_count": 31,
   "id": "592116f8",
   "metadata": {},
   "outputs": [
    {
     "name": "stdout",
     "output_type": "stream",
     "text": [
      "String is : hospital_data\n",
      "The reversed string is : atad_latipsoh\n"
     ]
    }
   ],
   "source": [
    "# 76\tReverse the string without using inbuilt functions.\n",
    "\n",
    "def rev(a):\n",
    "    string = \"\"\n",
    "    for i in a:\n",
    "        string = i + string\n",
    "    return string\n",
    "  \n",
    "a = \"hospital_data\"\n",
    "b = rev(a)\n",
    "print(\"String is : %s\" %a)  \n",
    "print(\"The reversed string is : %s\" %b)"
   ]
  },
  {
   "cell_type": "code",
   "execution_count": 32,
   "id": "df91753b",
   "metadata": {},
   "outputs": [
    {
     "data": {
      "image/png": "[encoded data removed]",
      "text/plain": [
       "<Figure size 432x288 with 1 Axes>"
      ]
     },
     "metadata": {
      "needs_background": "light"
     },
     "output_type": "display_data"
    },
    {
     "data": {
      "image/png": "[encoded data removed]",
      "text/plain": [
       "<Figure size 432x288 with 1 Axes>"
      ]
     },
     "metadata": {
      "needs_background": "light"
     },
     "output_type": "display_data"
    },
    {
     "data": {
      "image/png": "[encoded data removed]",
      "text/plain": [
       "<Figure size 432x288 with 1 Axes>"
      ]
     },
     "metadata": {
      "needs_background": "light"
     },
     "output_type": "display_data"
    }
   ],
   "source": [
    "# 77 Create a bar chart by making list on Acuity & EDDisposition column (with no duplicates) & make the hatchs onto the bar by using set_hatch() method.\n",
    "import pandas as pd\n",
    "import numpy as np\n",
    "import matplotlib.pyplot as plt\n",
    "df=pd.read_excel(\"HospitalDatabase.xlsx\", \"EDVisits\")\n",
    "df = df.loc[:,[\"Acuity\", \"EDDisposition\", \"PatientID\"]]\n",
    "df = (df.drop_duplicates())\n",
    "\n",
    "count = df.groupby([\"EDDisposition\", \"Acuity\"]).size().to_dict()\n",
    "ED = list(count.keys())\n",
    "number = list(count.values())\n",
    "ED =[]\n",
    "Acuity =[]\n",
    "for e, a in count:\n",
    "    ED.append(e)\n",
    "    Acuity.append(a)\n",
    "hatch =['*','/','o']\n",
    "plt.subplot(2,3,1)\n",
    "plt.title(\"EDvsnumber\")\n",
    "bar1 = plt.bar(ED,number,color='r')\n",
    "for i in range(len(bar1)):\n",
    "    bar1[i].set(hatch = hatch[0], fill=True)\n",
    "plt.show()\n",
    "plt.subplot(2,3,2)\n",
    "plt.title(\"EDvsAcuity\")\n",
    "bar2 = plt.bar(ED,Acuity,color='b')\n",
    "for i in range(len(bar2)):\n",
    "    bar2[i].set(hatch = hatch[1], fill=True)\n",
    "plt.show()\n",
    "\n",
    "plt.subplot(2,3,4)\n",
    "plt.title(\"Acuity vs count\")\n",
    "bar3 = plt.bar(Acuity,number,color='g')\n",
    "for i in range(len(bar3)):\n",
    "    bar3[i].set(hatch = hatch[2], fill=True)\n",
    "plt.show()\n"
   ]
  },
  {
   "cell_type": "code",
   "execution_count": 33,
   "id": "39d08bcd",
   "metadata": {},
   "outputs": [
    {
     "name": "stdout",
     "output_type": "stream",
     "text": [
      "The reason of visit with highest count of Acuity 5 patients is Chest Pain with count 53\n"
     ]
    }
   ],
   "source": [
    "# 78 Find reasonForVisit with highest count of acuity 5 patients.\n",
    "import pandas as pd\n",
    "import numpy as np\n",
    "df=pd.read_excel(\"HospitalDatabase.xlsx\", \"EDUnique\")\n",
    "a = df.query('Acuity == 5')\n",
    "b = a.filter(['ReasonForVisit'])\n",
    "count  = b.groupby('ReasonForVisit').size().to_dict()\n",
    "for key, val in count.items():\n",
    "        if val == b.groupby('ReasonForVisit').size().max():\n",
    "            print(\"The reason of visit with highest count of Acuity 5 patients is %s with count %s\" %(key,val))\n"
   ]
  },
  {
   "cell_type": "code",
   "execution_count": 34,
   "id": "9d89a00d",
   "metadata": {},
   "outputs": [
    {
     "name": "stdout",
     "output_type": "stream",
     "text": [
      "PrimaryDiagnosis that has the biggest difference between maximum and minimum Expected LOS is Pneumonia with the difference 14.834260065410472\n"
     ]
    }
   ],
   "source": [
    "# 79 Which PrimaryDiagnosis has the biggest difference between maximum and minimum Expected LOS?\n",
    "import pandas as pd\n",
    "import numpy as np\n",
    "df=pd.read_excel(\"HospitalDatabase.xlsx\", \"Discharges\")\n",
    "diagnosis = []\n",
    "diagnosis = (df[\"PrimaryDiagnosis\"])\n",
    "Expected_LOS = df[\"ExpectedLOS\"]\n",
    "diagnosis1 = (np.unique(diagnosis)).tolist()\n",
    "df.groupby('PrimaryDiagnosis')['ExpectedLOS'].apply(lambda g: g.max() - g.min())\n",
    "x1 = ((df.groupby('PrimaryDiagnosis')['ExpectedLOS'].apply(lambda g: g.max() - g.min()))).tolist()\n",
    "x2  = ((df.groupby('PrimaryDiagnosis')['ExpectedLOS'].apply(lambda g: g.max() - g.min())).max())\n",
    "diag_dict = {}\n",
    "diag_dict = {diagnosis1[i]: x1[i] for i in range(len(diagnosis1))}\n",
    "for key, val in diag_dict.items():\n",
    "        if val == x2:\n",
    "            print(\"PrimaryDiagnosis that has the biggest difference between maximum and minimum Expected LOS is %s with the difference %s\" %(key,val))"
   ]
  },
  {
   "cell_type": "code",
   "execution_count": 35,
   "id": "c504745e",
   "metadata": {},
   "outputs": [
    {
     "name": "stdout",
     "output_type": "stream",
     "text": [
      "The list of unique groups in provider speciality: ['Cardiology', 'Pediatrics', 'PrimaryCare', 'Surgery']\n"
     ]
    }
   ],
   "source": [
    "# 80 Write a code snippet to print different ProviderSpecialty ( use groupby and get the list of the groups).\n",
    "import pandas as pd\n",
    "import numpy as np\n",
    "df=pd.read_excel(\"HospitalDatabase.xlsx\", \"Providers\")\n",
    "a = df.groupby([\"ProviderSpecialty\"]).count().to_dict()\n",
    "provider_list =[]\n",
    "for x,y in a.items():\n",
    "    for i,j in y.items():\n",
    "        provider_list.append(i)\n",
    "provider_list = np.unique(provider_list).tolist()\n",
    "print(\"The list of unique groups in provider speciality: %s\" %provider_list)"
   ]
  },
  {
   "cell_type": "code",
   "execution_count": null,
   "id": "d2faf0e8",
   "metadata": {},
   "outputs": [],
   "source": []
  }
 ],
 "metadata": {
  "kernelspec": {
   "display_name": "Python 3 (ipykernel)",
   "language": "python",
   "name": "python3"
  },
  "language_info": {
   "codemirror_mode": {
    "name": "ipython",
    "version": 3
   },
   "file_extension": ".py",
   "mimetype": "text/x-python",
   "name": "python",
   "nbconvert_exporter": "python",
   "pygments_lexer": "ipython3",
   "version": "3.9.12"
  }
 },
 "nbformat": 4,
 "nbformat_minor": 5
}
